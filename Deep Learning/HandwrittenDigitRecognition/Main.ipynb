{
 "cells": [
  {
   "cell_type": "markdown",
   "metadata": {},
   "source": [
    "#### Handwritten Digit Recognition using Convolutional Neural Networks\n",
    "\n",
    "This notebook demonstrates how to build a Convolutional Neural Network (CNN) for recognizing handwritten digits using the popular MNIST dataset. The MNIST dataset consists of 28x28 grayscale images of handwritten digits (0 to 9) and the corresponding labels. The dataset is split into 60,000 training images and 10,000 test images."
   ]
  },
  {
   "cell_type": "code",
   "execution_count": 30,
   "metadata": {},
   "outputs": [],
   "source": [
    "from torchvision import datasets\n",
    "from torchvision.transforms import ToTensor"
   ]
  },
  {
   "cell_type": "code",
   "execution_count": 2,
   "metadata": {},
   "outputs": [],
   "source": [
    "train_data = datasets.MNIST(\n",
    "    root=\"data\",\n",
    "    train=True,\n",
    "    transform=ToTensor(),\n",
    "    download=True\n",
    ")\n",
    "\n",
    "test_data = datasets.MNIST(\n",
    "    root=\"data\",\n",
    "    train=False,\n",
    "    transform=ToTensor(),\n",
    "    download=True\n",
    ")"
   ]
  },
  {
   "cell_type": "code",
   "execution_count": 3,
   "metadata": {},
   "outputs": [
    {
     "data": {
      "text/plain": [
       "Dataset MNIST\n",
       "    Number of datapoints: 60000\n",
       "    Root location: data\n",
       "    Split: Train\n",
       "    StandardTransform\n",
       "Transform: ToTensor()"
      ]
     },
     "execution_count": 3,
     "metadata": {},
     "output_type": "execute_result"
    }
   ],
   "source": [
    "train_data"
   ]
  },
  {
   "cell_type": "code",
   "execution_count": 4,
   "metadata": {},
   "outputs": [
    {
     "data": {
      "text/plain": [
       "Dataset MNIST\n",
       "    Number of datapoints: 10000\n",
       "    Root location: data\n",
       "    Split: Test\n",
       "    StandardTransform\n",
       "Transform: ToTensor()"
      ]
     },
     "execution_count": 4,
     "metadata": {},
     "output_type": "execute_result"
    }
   ],
   "source": [
    "test_data"
   ]
  },
  {
   "cell_type": "code",
   "execution_count": 5,
   "metadata": {},
   "outputs": [
    {
     "data": {
      "text/plain": [
       "torch.Size([60000, 28, 28])"
      ]
     },
     "execution_count": 5,
     "metadata": {},
     "output_type": "execute_result"
    }
   ],
   "source": [
    "train_data.data.size()"
   ]
  },
  {
   "cell_type": "code",
   "execution_count": 6,
   "metadata": {},
   "outputs": [
    {
     "data": {
      "text/plain": [
       "torch.Size([10000, 28, 28])"
      ]
     },
     "execution_count": 6,
     "metadata": {},
     "output_type": "execute_result"
    }
   ],
   "source": [
    "test_data.data.size()"
   ]
  },
  {
   "cell_type": "code",
   "execution_count": 7,
   "metadata": {},
   "outputs": [
    {
     "data": {
      "text/plain": [
       "torch.Size([60000])"
      ]
     },
     "execution_count": 7,
     "metadata": {},
     "output_type": "execute_result"
    }
   ],
   "source": [
    "train_data.targets.size()"
   ]
  },
  {
   "cell_type": "code",
   "execution_count": 8,
   "metadata": {},
   "outputs": [
    {
     "data": {
      "text/plain": [
       "tensor([5, 0, 4,  ..., 5, 6, 8])"
      ]
     },
     "execution_count": 8,
     "metadata": {},
     "output_type": "execute_result"
    }
   ],
   "source": [
    "train_data.targets"
   ]
  },
  {
   "cell_type": "code",
   "execution_count": 9,
   "metadata": {},
   "outputs": [],
   "source": [
    "from torch.utils.data import DataLoader\n",
    "\n",
    "loaders = {\n",
    "\n",
    "    \"train\": DataLoader(\n",
    "                        train_data,\n",
    "                        batch_size=100,\n",
    "                        shuffle=True,\n",
    "                        num_workers=1\n",
    "    ),\n",
    "\n",
    "    \"test\": DataLoader(\n",
    "                        test_data,\n",
    "                        batch_size=100,\n",
    "                        shuffle=True,\n",
    "                        num_workers=1\n",
    "    )\n",
    "\n",
    "}"
   ]
  },
  {
   "cell_type": "code",
   "execution_count": 10,
   "metadata": {},
   "outputs": [
    {
     "data": {
      "text/plain": [
       "{'train': <torch.utils.data.dataloader.DataLoader at 0x192fe24bb20>,\n",
       " 'test': <torch.utils.data.dataloader.DataLoader at 0x192fe24b550>}"
      ]
     },
     "execution_count": 10,
     "metadata": {},
     "output_type": "execute_result"
    }
   ],
   "source": [
    "loaders"
   ]
  },
  {
   "cell_type": "code",
   "execution_count": 11,
   "metadata": {},
   "outputs": [],
   "source": [
    "import torch.nn as nn\n",
    "import torch.nn.functional as F\n",
    "import torch.optim as optim\n",
    "\n",
    "class CNN(nn.Module):\n",
    "    \n",
    "    def __init__(self):\n",
    "        super(CNN, self).__init__()\n",
    "\n",
    "        self.conv1 = nn.Conv2d(1, 10, kernel_size=5)\n",
    "        self.conv2 = nn.Conv2d(10, 20, kernel_size=5)\n",
    "        self.conv2_drop = nn.Dropout2d()\n",
    "        self.fc1 = nn.Linear(320, 50)\n",
    "        self.fc2 = nn.Linear(50, 10)\n",
    "\n",
    "    def forward(self, x):\n",
    "        x = F.relu(F.max_pool2d(self.conv1(x), 2)) # this is a max pooling layer\n",
    "        x = F.relu(F.max_pool2d(self.conv2_drop(self.conv2(x)), 2)) # this is a dropout layer\n",
    "        x = x.view(-1, 320) # flatten\n",
    "        x = F.relu(self.fc1(x)) # here we can add more layers\n",
    "        x = F.dropout(x, training=self.training) \n",
    "        x = self.fc2(x) # output layer\n",
    "\n",
    "        return F.log_softmax(x, dim=1)\n",
    "    \n",
    "    "
   ]
  },
  {
   "cell_type": "code",
   "execution_count": 17,
   "metadata": {},
   "outputs": [
    {
     "name": "stdout",
     "output_type": "stream",
     "text": [
      "Train Epoch: 1 [0/60000 (0%)]\tLoss: 2.303913\n",
      "Train Epoch: 1 [1000/60000 (2%)]\tLoss: 2.285569\n",
      "Train Epoch: 1 [2000/60000 (3%)]\tLoss: 2.199565\n",
      "Train Epoch: 1 [3000/60000 (5%)]\tLoss: 2.086722\n",
      "Train Epoch: 1 [4000/60000 (7%)]\tLoss: 1.688686\n",
      "Train Epoch: 1 [5000/60000 (8%)]\tLoss: 1.448299\n",
      "Train Epoch: 1 [6000/60000 (10%)]\tLoss: 1.070254\n",
      "Train Epoch: 1 [7000/60000 (12%)]\tLoss: 1.118411\n",
      "Train Epoch: 1 [8000/60000 (13%)]\tLoss: 0.887336\n",
      "Train Epoch: 1 [9000/60000 (15%)]\tLoss: 0.940290\n",
      "Train Epoch: 1 [10000/60000 (17%)]\tLoss: 0.961388\n",
      "Train Epoch: 1 [11000/60000 (18%)]\tLoss: 0.773763\n",
      "Train Epoch: 1 [12000/60000 (20%)]\tLoss: 0.836639\n",
      "Train Epoch: 1 [13000/60000 (22%)]\tLoss: 0.715670\n",
      "Train Epoch: 1 [14000/60000 (23%)]\tLoss: 0.570816\n",
      "Train Epoch: 1 [15000/60000 (25%)]\tLoss: 0.833408\n",
      "Train Epoch: 1 [16000/60000 (27%)]\tLoss: 0.666863\n",
      "Train Epoch: 1 [17000/60000 (28%)]\tLoss: 0.529134\n",
      "Train Epoch: 1 [18000/60000 (30%)]\tLoss: 0.721269\n",
      "Train Epoch: 1 [19000/60000 (32%)]\tLoss: 0.692619\n",
      "Train Epoch: 1 [20000/60000 (33%)]\tLoss: 0.432397\n",
      "Train Epoch: 1 [21000/60000 (35%)]\tLoss: 0.568702\n",
      "Train Epoch: 1 [22000/60000 (37%)]\tLoss: 0.546501\n",
      "Train Epoch: 1 [23000/60000 (38%)]\tLoss: 0.459606\n",
      "Train Epoch: 1 [24000/60000 (40%)]\tLoss: 0.448249\n",
      "Train Epoch: 1 [25000/60000 (42%)]\tLoss: 0.554394\n",
      "Train Epoch: 1 [26000/60000 (43%)]\tLoss: 0.518102\n",
      "Train Epoch: 1 [27000/60000 (45%)]\tLoss: 0.542838\n",
      "Train Epoch: 1 [28000/60000 (47%)]\tLoss: 0.335880\n",
      "Train Epoch: 1 [29000/60000 (48%)]\tLoss: 0.389818\n",
      "Train Epoch: 1 [30000/60000 (50%)]\tLoss: 0.531095\n",
      "Train Epoch: 1 [31000/60000 (52%)]\tLoss: 0.710154\n",
      "Train Epoch: 1 [32000/60000 (53%)]\tLoss: 0.588909\n",
      "Train Epoch: 1 [33000/60000 (55%)]\tLoss: 0.361154\n",
      "Train Epoch: 1 [34000/60000 (57%)]\tLoss: 0.531064\n",
      "Train Epoch: 1 [35000/60000 (58%)]\tLoss: 0.546922\n",
      "Train Epoch: 1 [36000/60000 (60%)]\tLoss: 0.301110\n",
      "Train Epoch: 1 [37000/60000 (62%)]\tLoss: 0.374144\n",
      "Train Epoch: 1 [38000/60000 (63%)]\tLoss: 0.505317\n",
      "Train Epoch: 1 [39000/60000 (65%)]\tLoss: 0.403471\n",
      "Train Epoch: 1 [40000/60000 (67%)]\tLoss: 0.314692\n",
      "Train Epoch: 1 [41000/60000 (68%)]\tLoss: 0.413633\n",
      "Train Epoch: 1 [42000/60000 (70%)]\tLoss: 0.391360\n",
      "Train Epoch: 1 [43000/60000 (72%)]\tLoss: 0.448571\n",
      "Train Epoch: 1 [44000/60000 (73%)]\tLoss: 0.456253\n",
      "Train Epoch: 1 [45000/60000 (75%)]\tLoss: 0.439263\n",
      "Train Epoch: 1 [46000/60000 (77%)]\tLoss: 0.596571\n",
      "Train Epoch: 1 [47000/60000 (78%)]\tLoss: 0.483018\n",
      "Train Epoch: 1 [48000/60000 (80%)]\tLoss: 0.355641\n",
      "Train Epoch: 1 [49000/60000 (82%)]\tLoss: 0.508424\n",
      "Train Epoch: 1 [50000/60000 (83%)]\tLoss: 0.502997\n",
      "Train Epoch: 1 [51000/60000 (85%)]\tLoss: 0.423032\n",
      "Train Epoch: 1 [52000/60000 (87%)]\tLoss: 0.367676\n",
      "Train Epoch: 1 [53000/60000 (88%)]\tLoss: 0.494913\n",
      "Train Epoch: 1 [54000/60000 (90%)]\tLoss: 0.413024\n",
      "Train Epoch: 1 [55000/60000 (92%)]\tLoss: 0.280652\n",
      "Train Epoch: 1 [56000/60000 (93%)]\tLoss: 0.399052\n",
      "Train Epoch: 1 [57000/60000 (95%)]\tLoss: 0.361718\n",
      "Train Epoch: 1 [58000/60000 (97%)]\tLoss: 0.426085\n",
      "Train Epoch: 1 [59000/60000 (98%)]\tLoss: 0.464933\n",
      "\n",
      "Test set: Average loss: 0.0014, Accuracy: 9557/10000 (96%)\n",
      "\n",
      "Train Epoch: 2 [0/60000 (0%)]\tLoss: 0.567668\n",
      "Train Epoch: 2 [1000/60000 (2%)]\tLoss: 0.365596\n",
      "Train Epoch: 2 [2000/60000 (3%)]\tLoss: 0.299943\n",
      "Train Epoch: 2 [3000/60000 (5%)]\tLoss: 0.499465\n",
      "Train Epoch: 2 [4000/60000 (7%)]\tLoss: 0.177863\n",
      "Train Epoch: 2 [5000/60000 (8%)]\tLoss: 0.361470\n",
      "Train Epoch: 2 [6000/60000 (10%)]\tLoss: 0.264144\n",
      "Train Epoch: 2 [7000/60000 (12%)]\tLoss: 0.369042\n",
      "Train Epoch: 2 [8000/60000 (13%)]\tLoss: 0.331388\n",
      "Train Epoch: 2 [9000/60000 (15%)]\tLoss: 0.215819\n",
      "Train Epoch: 2 [10000/60000 (17%)]\tLoss: 0.419255\n",
      "Train Epoch: 2 [11000/60000 (18%)]\tLoss: 0.365785\n",
      "Train Epoch: 2 [12000/60000 (20%)]\tLoss: 0.290281\n",
      "Train Epoch: 2 [13000/60000 (22%)]\tLoss: 0.345460\n",
      "Train Epoch: 2 [14000/60000 (23%)]\tLoss: 0.232048\n",
      "Train Epoch: 2 [15000/60000 (25%)]\tLoss: 0.368454\n",
      "Train Epoch: 2 [16000/60000 (27%)]\tLoss: 0.415889\n",
      "Train Epoch: 2 [17000/60000 (28%)]\tLoss: 0.421934\n",
      "Train Epoch: 2 [18000/60000 (30%)]\tLoss: 0.453264\n",
      "Train Epoch: 2 [19000/60000 (32%)]\tLoss: 0.456109\n",
      "Train Epoch: 2 [20000/60000 (33%)]\tLoss: 0.300979\n",
      "Train Epoch: 2 [21000/60000 (35%)]\tLoss: 0.235167\n",
      "Train Epoch: 2 [22000/60000 (37%)]\tLoss: 0.354644\n",
      "Train Epoch: 2 [23000/60000 (38%)]\tLoss: 0.265157\n",
      "Train Epoch: 2 [24000/60000 (40%)]\tLoss: 0.424057\n",
      "Train Epoch: 2 [25000/60000 (42%)]\tLoss: 0.282031\n",
      "Train Epoch: 2 [26000/60000 (43%)]\tLoss: 0.326887\n",
      "Train Epoch: 2 [27000/60000 (45%)]\tLoss: 0.337275\n",
      "Train Epoch: 2 [28000/60000 (47%)]\tLoss: 0.241880\n",
      "Train Epoch: 2 [29000/60000 (48%)]\tLoss: 0.251321\n",
      "Train Epoch: 2 [30000/60000 (50%)]\tLoss: 0.381464\n",
      "Train Epoch: 2 [31000/60000 (52%)]\tLoss: 0.300799\n",
      "Train Epoch: 2 [32000/60000 (53%)]\tLoss: 0.229058\n",
      "Train Epoch: 2 [33000/60000 (55%)]\tLoss: 0.241019\n",
      "Train Epoch: 2 [34000/60000 (57%)]\tLoss: 0.373665\n",
      "Train Epoch: 2 [35000/60000 (58%)]\tLoss: 0.259757\n",
      "Train Epoch: 2 [36000/60000 (60%)]\tLoss: 0.193916\n",
      "Train Epoch: 2 [37000/60000 (62%)]\tLoss: 0.309952\n",
      "Train Epoch: 2 [38000/60000 (63%)]\tLoss: 0.292640\n",
      "Train Epoch: 2 [39000/60000 (65%)]\tLoss: 0.244411\n",
      "Train Epoch: 2 [40000/60000 (67%)]\tLoss: 0.233729\n",
      "Train Epoch: 2 [41000/60000 (68%)]\tLoss: 0.351171\n",
      "Train Epoch: 2 [42000/60000 (70%)]\tLoss: 0.308449\n",
      "Train Epoch: 2 [43000/60000 (72%)]\tLoss: 0.401367\n",
      "Train Epoch: 2 [44000/60000 (73%)]\tLoss: 0.375499\n",
      "Train Epoch: 2 [45000/60000 (75%)]\tLoss: 0.229866\n",
      "Train Epoch: 2 [46000/60000 (77%)]\tLoss: 0.209104\n",
      "Train Epoch: 2 [47000/60000 (78%)]\tLoss: 0.315734\n",
      "Train Epoch: 2 [48000/60000 (80%)]\tLoss: 0.243922\n",
      "Train Epoch: 2 [49000/60000 (82%)]\tLoss: 0.198064\n",
      "Train Epoch: 2 [50000/60000 (83%)]\tLoss: 0.327620\n",
      "Train Epoch: 2 [51000/60000 (85%)]\tLoss: 0.221955\n",
      "Train Epoch: 2 [52000/60000 (87%)]\tLoss: 0.233630\n",
      "Train Epoch: 2 [53000/60000 (88%)]\tLoss: 0.469915\n",
      "Train Epoch: 2 [54000/60000 (90%)]\tLoss: 0.368215\n",
      "Train Epoch: 2 [55000/60000 (92%)]\tLoss: 0.272360\n",
      "Train Epoch: 2 [56000/60000 (93%)]\tLoss: 0.188213\n",
      "Train Epoch: 2 [57000/60000 (95%)]\tLoss: 0.517305\n",
      "Train Epoch: 2 [58000/60000 (97%)]\tLoss: 0.210544\n",
      "Train Epoch: 2 [59000/60000 (98%)]\tLoss: 0.333214\n",
      "\n",
      "Test set: Average loss: 0.0010, Accuracy: 9690/10000 (97%)\n",
      "\n"
     ]
    }
   ],
   "source": [
    "import torch\n",
    "\n",
    "device = torch.device(\"cuda\" if torch.cuda.is_available() else \"cpu\")\n",
    "\n",
    "model = CNN().to(device)\n",
    "\n",
    "optimizer = optim.Adam(model.parameters(), lr=0.001)\n",
    "\n",
    "loss_fn = nn.CrossEntropyLoss()\n",
    "\n",
    "def train(epoch):\n",
    "    model.train()\n",
    "    for batch_idx, (data, target) in enumerate(loaders[\"train\"]):\n",
    "        data, target = data.to(device), target.to(device)\n",
    "        optimizer.zero_grad()\n",
    "        output = model(data)\n",
    "        loss = loss_fn(output, target)\n",
    "        loss.backward()\n",
    "        optimizer.step()\n",
    "        if batch_idx % 10 == 0:\n",
    "            print('Train Epoch: {} [{}/{} ({:.0f}%)]\\tLoss: {:.6f}'.format(\n",
    "                epoch, batch_idx * len(data), len(loaders[\"train\"].dataset),\n",
    "                100. * batch_idx / len(loaders[\"train\"]), loss.item()))\n",
    "            \n",
    "def test():\n",
    "    model.eval()\n",
    "    test_loss = 0\n",
    "    correct = 0\n",
    "    with torch.no_grad():\n",
    "        for data, target in loaders[\"test\"]:\n",
    "            data, target = data.to(device), target.to(device)\n",
    "            output = model(data)\n",
    "            test_loss += loss_fn(output, target).item()\n",
    "            pred = output.data.max(1, keepdim=True)[1]\n",
    "            correct += pred.eq(target.data.view_as(pred)).cpu().sum()\n",
    "    test_loss /= len(loaders[\"test\"].dataset)\n",
    "    print('\\nTest set: Average loss: {:.4f}, Accuracy: {}/{} ({:.0f}%)\\n'.format(\n",
    "        test_loss, correct, len(loaders[\"test\"].dataset),\n",
    "        100. * correct / len(loaders[\"test\"].dataset)))\n",
    "    \n",
    "for epoch in range(1, 3):\n",
    "    train(epoch)\n",
    "    test()\n",
    "\n",
    "# torch.save(model.state_dict(), \"mnist_cnn.pt\")"
   ]
  },
  {
   "cell_type": "code",
   "execution_count": 19,
   "metadata": {},
   "outputs": [
    {
     "data": {
      "text/plain": [
       "device(type='cpu')"
      ]
     },
     "execution_count": 19,
     "metadata": {},
     "output_type": "execute_result"
    }
   ],
   "source": [
    "device"
   ]
  },
  {
   "cell_type": "code",
   "execution_count": 28,
   "metadata": {},
   "outputs": [
    {
     "name": "stdout",
     "output_type": "stream",
     "text": [
      "Prediction: 9\n"
     ]
    },
    {
     "data": {
      "image/png": "[encoded data removed]",
      "text/plain": [
       "<Figure size 640x480 with 1 Axes>"
      ]
     },
     "metadata": {},
     "output_type": "display_data"
    }
   ],
   "source": [
    "import matplotlib.pyplot as plt\n",
    "\n",
    "model.eval()\n",
    "\n",
    "data, target = test_data[7]\n",
    "\n",
    "data = data.unsqueeze(0).to(device)\n",
    "\n",
    "output = model(data)\n",
    "\n",
    "pred = output.argmax(dim=1, keepdim=True).item()\n",
    "\n",
    "print(f'Prediction: {pred}')\n",
    "\n",
    "image = data.squeeze(0).squeeze(0).cpu().numpy()\n",
    "\n",
    "plt.imshow(image, cmap='gray')\n",
    "plt.show()\n",
    "\n"
   ]
  }
 ],
 "metadata": {
  "kernelspec": {
   "display_name": "Python 3",
   "language": "python",
   "name": "python3"
  },
  "language_info": {
   "codemirror_mode": {
    "name": "ipython",
    "version": 3
   },
   "file_extension": ".py",
   "mimetype": "text/x-python",
   "name": "python",
   "nbconvert_exporter": "python",
   "pygments_lexer": "ipython3",
   "version": "3.10.6"
  }
 },
 "nbformat": 4,
 "nbformat_minor": 2
}
